{
 "cells": [
  {
   "cell_type": "markdown",
   "metadata": {},
   "source": [
    "# Capstone Project - The Battle of Neighborhoods (Week 1)"
   ]
  },
  {
   "cell_type": "markdown",
   "metadata": {},
   "source": [
    "## __1.\tIntroduction and Background__"
   ]
  },
  {
   "cell_type": "markdown",
   "metadata": {},
   "source": [
    "### Oslo is one of the most growing cities in the world. This is the city where new technologies are coming and  new businesses start increasingly. Moreover, Oslo is a multinational city which arouses increased interest among investors. Haivng a huge number of firms, technologies in various areas and industries located in and around Oslo, this city attracts many people from different parts of Norway. Oslo is growing at a pace of around 1,46% annually. The immigrant population is growing faster than the native Norwegian population and it now accounts for more than 25% of Oslo's population. Due to this increasing population in the city, there is a large scope to set up businesses like shopping stores, hotels and hostels, restaurants, coffee shops, private international schools, beauty and health shops, etc."
   ]
  },
  {
   "cell_type": "markdown",
   "metadata": {},
   "source": [
    "### __Business Problem__"
   ]
  },
  {
   "cell_type": "markdown",
   "metadata": {},
   "source": [
    "### The objective of this project is to analyze the neighbourhoods in the Oslo city and divide them into different clusters based on the popular venues at each neighbourhood, by using data science methodology and machine learning techniques like clustering. \n",
    "\n",
    "### The target audience of this project is small business owners who want to set up their businesses like restaurants, coffee shops, beauty and health stores, etc. It would help them:\n",
    "  * to find out what kind venues already exist \n",
    "  * to find the optimal location based on the category of their business"
   ]
  },
  {
   "cell_type": "markdown",
   "metadata": {},
   "source": [
    "## __2.\tData Requirement__"
   ]
  },
  {
   "cell_type": "markdown",
   "metadata": {},
   "source": [
    "### It does not exist a ready dataset with Neighborhoods of Oslo, so I had to create an excel file which I could further open in Python. This data set includes postal code, borough, neighborhood, latitude and longitude. I have used several websites in order to obtain a necessary information, such as www.erikbolstad.no, www.adressesok.posten.no and www.oslo.kommune.no. Regarding to list of venues in each neighborhood, Foursquare API will be used."
   ]
  },
  {
   "cell_type": "code",
   "execution_count": null,
   "metadata": {},
   "outputs": [],
   "source": []
  }
 ],
 "metadata": {
  "kernelspec": {
   "display_name": "Python",
   "language": "python",
   "name": "conda-env-python-py"
  },
  "language_info": {
   "codemirror_mode": {
    "name": "ipython",
    "version": 3
   },
   "file_extension": ".py",
   "mimetype": "text/x-python",
   "name": "python",
   "nbconvert_exporter": "python",
   "pygments_lexer": "ipython3",
   "version": "3.6.11"
  }
 },
 "nbformat": 4,
 "nbformat_minor": 4
}
